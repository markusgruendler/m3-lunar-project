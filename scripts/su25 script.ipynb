{
 "cells": [
  {
   "cell_type": "code",
   "execution_count": 39,
   "id": "0078e1da",
   "metadata": {},
   "outputs": [],
   "source": [
    "import numpy as np\n",
    "import pandas as pd\n",
    "import matplotlib.pyplot as plot\n",
    "import seaborn as sns\n",
    "\n",
    "import os\n",
    "from pathlib import Path"
   ]
  },
  {
   "cell_type": "code",
   "execution_count": 49,
   "id": "1d55a3ff",
   "metadata": {},
   "outputs": [
    {
     "data": {
      "text/plain": [
       "'/Users/markus/Documents/Productivity/SETI/m3-lunar-project'"
      ]
     },
     "execution_count": 49,
     "metadata": {},
     "output_type": "execute_result"
    }
   ],
   "source": [
    "str(Path.cwd().parent)"
   ]
  },
  {
   "cell_type": "code",
   "execution_count": 50,
   "id": "8e94fe54",
   "metadata": {},
   "outputs": [
    {
     "name": "stdout",
     "output_type": "stream",
     "text": [
      "[C] Search current directory\n",
      "[U] Search up one level\n",
      "[E] Exit\n"
     ]
    }
   ],
   "source": [
    "testLOCATION_MSG = f\"[C] Search current directory\\n\" \\\n",
    "        f\"[U] Search up one level\\n\" \\\n",
    "        f\"[E] Exit\"\n",
    "print(testLOCATION_MSG)"
   ]
  },
  {
   "cell_type": "code",
   "execution_count": 60,
   "id": "77ef87c9",
   "metadata": {},
   "outputs": [
    {
     "name": "stdout",
     "output_type": "stream",
     "text": [
      "Current path\n",
      " - /Users/markus/Documents/Productivity/SETI/m3-lunar-project/scripts\n",
      "Couldn't read input, trying again.\n",
      "Couldn't read input, trying again.\n",
      "Couldn't read input, trying again.\n",
      "Couldn't read input, trying again.\n",
      " - /Users/markus/Documents/Productivity/SETI/m3-lunar-project\n"
     ]
    }
   ],
   "source": [
    "current_path = Path.cwd()\n",
    "if not current_path.exists():\n",
    "    print(\"Invalid Path\")\n",
    "print(f\"Current path\\n - {current_path}\")\n",
    "\n",
    "LOCATION_MSG = \\\n",
    "    f\"[1] Search current directory '{current_path.name}'\\n\" \\\n",
    "    f\"[2] Search up one level\\n\" \\\n",
    "    f\"[E] Exit\"\n",
    "\n",
    "location = input(LOCATION_MSG)\n",
    "while location.lower() not in [\"1\", \"2\", \"e\"]:\n",
    "    print(f\"Couldn't read input, trying again.\")\n",
    "    location = input(LOCATION_MSG)\n",
    "\n",
    "if location.lower() == \"e\":\n",
    "    print(f\"Exiting.\")\n",
    "\n",
    "while location == \"2\":\n",
    "    current_path = current_path.parent\n",
    "    print(f\" - {current_path}\")\n",
    "    location = input(LOCATION_MSG)\n",
    "\n",
    "if location.lower() == \"1\":\n",
    "    print(f\" > {current_path}\\nSelected path\")"
   ]
  },
  {
   "cell_type": "code",
   "execution_count": null,
   "id": "4260f4ad",
   "metadata": {},
   "outputs": [
    {
     "name": "stdout",
     "output_type": "stream",
     "text": [
      "[0] su25 script.ipynb\n",
      "[1] wi25 lab data script.ipynb\n",
      "[2] wi25 lab data script.py\n"
     ]
    },
    {
     "ename": "NotADirectoryError",
     "evalue": "[Errno 20] Not a directory: '/Users/markus/Documents/Productivity/SETI/m3-lunar-project/scripts/wi25 lab data script.ipynb'",
     "output_type": "error",
     "traceback": [
      "\u001b[31m---------------------------------------------------------------------------\u001b[39m",
      "\u001b[31mNotADirectoryError\u001b[39m                        Traceback (most recent call last)",
      "\u001b[36mCell\u001b[39m\u001b[36m \u001b[39m\u001b[32mIn[7]\u001b[39m\u001b[32m, line 34\u001b[39m\n\u001b[32m     31\u001b[39m             folder_info[i] = os.path.join(path, i)\n\u001b[32m     33\u001b[39m     \u001b[38;5;28;01mreturn\u001b[39;00m folder_info, path\n\u001b[32m---> \u001b[39m\u001b[32m34\u001b[39m \u001b[43mfindFile\u001b[49m\u001b[43m(\u001b[49m\u001b[43mos\u001b[49m\u001b[43m.\u001b[49m\u001b[43mgetcwd\u001b[49m\u001b[43m(\u001b[49m\u001b[43m)\u001b[49m\u001b[43m)\u001b[49m\n",
      "\u001b[36mCell\u001b[39m\u001b[36m \u001b[39m\u001b[32mIn[7]\u001b[39m\u001b[32m, line 7\u001b[39m, in \u001b[36mfindFile\u001b[39m\u001b[34m(cwd)\u001b[39m\n\u001b[32m      4\u001b[39m folder_info = {}\n\u001b[32m      5\u001b[39m \u001b[38;5;28;01mwhile\u001b[39;00m \u001b[38;5;129;01mnot\u001b[39;00m found:\n\u001b[32m      6\u001b[39m     \u001b[38;5;66;03m# define file list in cwd\u001b[39;00m\n\u001b[32m----> \u001b[39m\u001b[32m7\u001b[39m     dirList = \u001b[43mos\u001b[49m\u001b[43m.\u001b[49m\u001b[43mlistdir\u001b[49m\u001b[43m(\u001b[49m\u001b[43mos\u001b[49m\u001b[43m.\u001b[49m\u001b[43mpath\u001b[49m\u001b[43m.\u001b[49m\u001b[43mjoin\u001b[49m\u001b[43m(\u001b[49m\u001b[43mcwd\u001b[49m\u001b[43m,\u001b[49m\u001b[43mpath\u001b[49m\u001b[43m)\u001b[49m\u001b[43m)\u001b[49m\n\u001b[32m      9\u001b[39m     \u001b[38;5;66;03m# list out files with [#] as identifier\u001b[39;00m\n\u001b[32m     10\u001b[39m     \u001b[38;5;28;01mfor\u001b[39;00m c, i \u001b[38;5;129;01min\u001b[39;00m \u001b[38;5;28menumerate\u001b[39m(dirList):\n",
      "\u001b[31mNotADirectoryError\u001b[39m: [Errno 20] Not a directory: '/Users/markus/Documents/Productivity/SETI/m3-lunar-project/scripts/wi25 lab data script.ipynb'"
     ]
    }
   ],
   "source": [
    "def findFile(cwd):\n",
    "    current_path = Path(cwd)\n",
    "\n",
    "    if not current_path.exists():\n",
    "        print(\"Invalid Path\")\n",
    "    print(f\"Current path\\n - {current_path}\")\n",
    "\n",
    "    # ascending\n",
    "    UP_SEARCH_MSG = \\\n",
    "        f\"[1] Search current directory '{current_path.name}'\\n\" \\\n",
    "        f\"[2] Search up one level\\n\" \\\n",
    "        f\"[E] Exit\"\n",
    "\n",
    "    location = input(UP_SEARCH_MSG)\n",
    "    while location.lower() not in [\"1\", \"2\", \"e\"]:\n",
    "        print(f\"Couldn't read input, trying again.\")\n",
    "        location = input(UP_SEARCH_MSG)\n",
    "\n",
    "    if location.lower() == \"e\":\n",
    "        print(f\"Exiting.\")\n",
    "\n",
    "    while location == \"2\":\n",
    "        current_path = current_path.parent\n",
    "        print(f\" - {current_path}\")\n",
    "        location = input(UP_SEARCH_MSG)\n",
    "\n",
    "    if location.lower() == \"1\":\n",
    "        print(f\" > {current_path}\\nSelected path\")\n",
    "\n",
    "\n",
    "    folder_info = {}\n",
    "    found = False\n",
    "    while not found:\n",
    "        dirList = [f for f in path.iterdir()]\n",
    "\n",
    "        # list out files with [#] as identifier\n",
    "        for c, i in enumerate(dirList):\n",
    "            print('[' + str(c) + '] ' + str(i))\n",
    "\n",
    "        # get target file [#], subtract 0 for index\n",
    "        num = input('Target #: ')\n",
    "        while not num.isnumeric():\n",
    "            num = input(\"Couldn't read input\"+\"\\n\"+\"Target #: \")\n",
    "        num = int(num)\n",
    "\n",
    "        name = dirList[num]\n",
    "        path = os.path.join(path, name)\n",
    "\n",
    "        # ask: process (Y) or search target (N)\n",
    "        if input(\n",
    "            f\"File/Folder found (Y)\" + \"\\n\" + \n",
    "            f\"\"\n",
    "        ).lower() == 'y':\n",
    "            found = True\n",
    "    \n",
    "    for i in os.listdir(path):\n",
    "        if i[-4:].lower() == '.csv':\n",
    "            folder_info[i] = os.path.join(path, i)\n",
    "    \n",
    "    return folder_info, path\n",
    "findFile(os.getcwd())"
   ]
  },
  {
   "cell_type": "code",
   "execution_count": 7,
   "id": "d34f0de3",
   "metadata": {},
   "outputs": [
    {
     "name": "stdout",
     "output_type": "stream",
     "text": [
      "Checking for 'input files/su25' on current path /Users/markus/Documents/Productivity/SETI/m3-lunar-project/scripts\n",
      "> Not found, searching for folders up one level\n",
      "\n",
      "Searching for folder 'input files' in /Users/markus/Documents/Productivity/SETI/m3-lunar-project\n",
      "[0] .DS_Store\n",
      "[1] input files\n",
      "> Found folder 'input files' at [1]\n",
      "\n",
      "Searching for folder 'su25' in /Users/markus/Documents/Productivity/SETI/m3-lunar-project/input files\n",
      "[0] m3 original data 40nm.csv\n",
      "[1] su25\n",
      "> Found folder 'su25' at [1]\n",
      "\n",
      "Path found\n",
      "> '/Users/markus/Documents/Productivity/SETI/m3-lunar-project/input files/su25'\n",
      "\n",
      "Listing csv files in /Users/markus/Documents/Productivity/SETI/m3-lunar-project/input files/su25\n",
      "[0] clean M3 wavelengths targeted global.csv\n",
      "[1] M3_Regions1-5 ratios + M3G binned analogs Zoom hyd v2.qpc\n",
      "[2] M3_Regions1-5 ratios+analogs Zoom hyd binned only v2.qpc\n",
      "[3] M3_Regions1-5 ratios + M3G binned analogs v1.jpeg\n",
      "[4] M3 wavelengths targeted global.xlsx\n",
      "[5] ~$M3 wavelengths targeted global.xlsx\n",
      "[6] M3_Regions1-5 ratios + M3G binned analogs v1.qpc\n",
      "[7] M3 wavelengths targeted global.csv\n",
      "[8] M3_Regions1-5 ratios + M3G binned analogs Zoom hyd v2.jpeg\n",
      "\n",
      "Path found\n",
      "> '/Users/markus/Documents/Productivity/SETI/m3-lunar-project/input files/su25/clean M3 wavelengths targeted global.csv'\n"
     ]
    }
   ],
   "source": [
    "def find_file():\n",
    "    searching_path = find_directory()\n",
    "\n",
    "    ###\n",
    "    # file search\n",
    "    ###\n",
    "    found = False\n",
    "    while not found:\n",
    "        print(\"\\n\" + f\"Listing csv files in {searching_path}\")\n",
    "        for c, i in enumerate(os.listdir(searching_path)):\n",
    "            print(f\"[{c}] {i}\")\n",
    "        \n",
    "        ans = input(\"Enter # to select [#]\\n\")\n",
    "        while ans.isalpha() or int(ans) < 0 or int(ans) >= len(os.listdir(searching_path)):\n",
    "            ans = input(\"Couldn't recognize input, enter # to select [#]\\n\")\n",
    "        \n",
    "        searching_path = os.path.join(searching_path, os.listdir(searching_path)[int(ans)])\n",
    "        found = True\n",
    "\n",
    "    if found:\n",
    "        print(f\"\\nPath found\\n> '{searching_path}'\")\n",
    "        return searching_path\n",
    "    else:\n",
    "        print(f\"\\nPath not found, returning\")\n",
    "        return\n",
    "\n",
    "input_path = find_file()"
   ]
  },
  {
   "cell_type": "code",
   "execution_count": 8,
   "id": "2318a81e",
   "metadata": {},
   "outputs": [],
   "source": [
    "df = pd.read_csv(input_path)"
   ]
  },
  {
   "cell_type": "code",
   "execution_count": 9,
   "id": "b1316700",
   "metadata": {},
   "outputs": [
    {
     "data": {
      "text/html": [
       "<div>\n",
       "<style scoped>\n",
       "    .dataframe tbody tr th:only-of-type {\n",
       "        vertical-align: middle;\n",
       "    }\n",
       "\n",
       "    .dataframe tbody tr th {\n",
       "        vertical-align: top;\n",
       "    }\n",
       "\n",
       "    .dataframe thead th {\n",
       "        text-align: right;\n",
       "    }\n",
       "</style>\n",
       "<table border=\"1\" class=\"dataframe\">\n",
       "  <thead>\n",
       "    <tr style=\"text-align: right;\">\n",
       "      <th></th>\n",
       "      <th>Wavelength (µm) M3 targeted images</th>\n",
       "      <th>average every 4 channels, step n, sort</th>\n",
       "      <th>average every 4 channels, step n, sort, round 0.0001</th>\n",
       "      <th>Wavelength (µm) M3 global images</th>\n",
       "    </tr>\n",
       "  </thead>\n",
       "  <tbody>\n",
       "    <tr>\n",
       "      <th>0</th>\n",
       "      <td>0.44602</td>\n",
       "      <td>0.460990</td>\n",
       "      <td>0.4610</td>\n",
       "      <td>0.4610</td>\n",
       "    </tr>\n",
       "    <tr>\n",
       "      <th>1</th>\n",
       "      <td>0.45600</td>\n",
       "      <td>0.500920</td>\n",
       "      <td>0.5009</td>\n",
       "      <td>0.5009</td>\n",
       "    </tr>\n",
       "    <tr>\n",
       "      <th>2</th>\n",
       "      <td>0.46598</td>\n",
       "      <td>0.540840</td>\n",
       "      <td>0.5408</td>\n",
       "      <td>0.5408</td>\n",
       "    </tr>\n",
       "    <tr>\n",
       "      <th>3</th>\n",
       "      <td>0.47596</td>\n",
       "      <td>0.580765</td>\n",
       "      <td>0.5808</td>\n",
       "      <td>0.5808</td>\n",
       "    </tr>\n",
       "    <tr>\n",
       "      <th>4</th>\n",
       "      <td>0.48595</td>\n",
       "      <td>0.620690</td>\n",
       "      <td>0.6207</td>\n",
       "      <td>0.6207</td>\n",
       "    </tr>\n",
       "  </tbody>\n",
       "</table>\n",
       "</div>"
      ],
      "text/plain": [
       "   Wavelength (µm) M3 targeted images  average every 4 channels, step n, sort  \\\n",
       "0                             0.44602                                0.460990   \n",
       "1                             0.45600                                0.500920   \n",
       "2                             0.46598                                0.540840   \n",
       "3                             0.47596                                0.580765   \n",
       "4                             0.48595                                0.620690   \n",
       "\n",
       "   average every 4 channels, step n, sort, round 0.0001  \\\n",
       "0                                             0.4610      \n",
       "1                                             0.5009      \n",
       "2                                             0.5408      \n",
       "3                                             0.5808      \n",
       "4                                             0.6207      \n",
       "\n",
       "   Wavelength (µm) M3 global images  \n",
       "0                            0.4610  \n",
       "1                            0.5009  \n",
       "2                            0.5408  \n",
       "3                            0.5808  \n",
       "4                            0.6207  "
      ]
     },
     "execution_count": 9,
     "metadata": {},
     "output_type": "execute_result"
    }
   ],
   "source": [
    "df.head()"
   ]
  },
  {
   "cell_type": "code",
   "execution_count": 10,
   "id": "5a6028a2",
   "metadata": {},
   "outputs": [],
   "source": [
    "# change step size if past a breakpoint\n",
    "# current wl: step to transition to\n",
    "breakpoints = {\n",
    "    \"wl\"   : [0, 0.44, 0.68, 0.71, 1.53, 1.56, 1.60], #, 1.64, 9999],\n",
    "    \"step\" : [0,    4,    4,    3,    2,    3,    4]  #,   5,    4]\n",
    "}\n",
    "wavelengths = np.array(df[df.columns[0]])\n",
    "empirical = np.array(df[df.columns[-1]].dropna())"
   ]
  },
  {
   "cell_type": "code",
   "execution_count": 11,
   "id": "f1c8f672",
   "metadata": {},
   "outputs": [
    {
     "name": "stdout",
     "output_type": "stream",
     "text": [
      "     wl: step change, index change\n",
      "0.44602: step 0->4, idx 0->1\n",
      "0.44602: step 4->4, idx 1->2\n",
      "0.68556: step 4->3, idx 2->3\n",
      "0.71551: step 3->2, idx 3->4\n",
      "1.53400: step 2->3, idx 4->5\n",
      "1.56390: step 3->4, idx 5->6\n",
      "\n",
      "lengths:\n",
      "output    85\n",
      "empirical 85\n",
      "\n",
      "sum diff:  0.000100\n",
      "\n",
      "idx: generated vs empirical\n",
      "21: 1.0099 | 1.0100\n",
      "61: 2.0580 | 2.0579\n",
      "69: 2.3774 | 2.3773\n",
      "78: 2.7366 | 2.7367\n",
      "82: 2.8964 | 2.8963\n"
     ]
    }
   ],
   "source": [
    "# average 4 at a time\n",
    "# set step size to last breakpoint\n",
    "# increment by step size\n",
    "# round to 4 decimals\n",
    "\n",
    "print(f\"     wl: step change, index change\")\n",
    "\n",
    "i = 0\n",
    "bp_idx = 0\n",
    "output = []\n",
    "while i+3 < len(wavelengths):\n",
    "    # average over next 4\n",
    "    avg = np.round(np.mean(wavelengths[i:i+4]),4)\n",
    "\n",
    "    # if next step exists\n",
    "    # and current wl > bp_idx wl\n",
    "    while bp_idx + 1 < len(breakpoints[\"step\"]) and wavelengths[i] > breakpoints[\"wl\"][bp_idx]:\n",
    "        bp_idx += 1\n",
    "        print(f\"{wavelengths[i]:0.5f}: step {breakpoints['step'][bp_idx-1]}->{breakpoints['step'][bp_idx]}, idx {bp_idx-1}->{bp_idx}\")\n",
    "\n",
    "    # save and increment by values consumed\n",
    "    output.append(avg)\n",
    "    i += breakpoints[\"step\"][bp_idx]\n",
    "output = np.array(output)\n",
    "\n",
    "print(f\"\\nlengths:\\n\" + f\"output    {len(output)}\\n\" + f\"empirical {len(empirical)}\\n\")\n",
    "print(f\"sum diff:  {sum(output - empirical):f}\")\n",
    "\n",
    "print(f\"\\n\" + f\"idx: generated vs empirical\")\n",
    "for i in range(min(len(output), len(empirical))):\n",
    "    if empirical[i] != output[i]:\n",
    "        print(f\"{i}: {output[i]:.04f} | {empirical[i]:.04f}\")"
   ]
  },
  {
   "cell_type": "code",
   "execution_count": null,
   "id": "c4f6f287",
   "metadata": {},
   "outputs": [],
   "source": [
    "### inconsistencies\n",
    "## round up, not truncating\n",
    "# mean(0.99497, 1.005, 1.0149, 1.0249) = 1.0099425 -> 1.0099, manual is 1.01 > 1.0099\n",
    "## round down\n",
    "# mean(2.3624, 2.3724, 2.3823, 2.3923) = 2.37735 -> 2.3774, manual is 2.3773 < 2.3774"
   ]
  },
  {
   "cell_type": "code",
   "execution_count": null,
   "id": "a46943ea",
   "metadata": {},
   "outputs": [],
   "source": [
    "### file writing:"
   ]
  }
 ],
 "metadata": {
  "kernelspec": {
   "display_name": "m3venv",
   "language": "python",
   "name": "python3"
  },
  "language_info": {
   "codemirror_mode": {
    "name": "ipython",
    "version": 3
   },
   "file_extension": ".py",
   "mimetype": "text/x-python",
   "name": "python",
   "nbconvert_exporter": "python",
   "pygments_lexer": "ipython3",
   "version": "3.11.1"
  }
 },
 "nbformat": 4,
 "nbformat_minor": 5
}

{
 "cells": [
  {
   "cell_type": "code",
   "execution_count": null,
   "id": "0078e1da",
   "metadata": {},
   "outputs": [],
   "source": [
    "import numpy as np\n",
    "import pandas as pd\n",
    "import matplotlib.pyplot as plot\n",
    "import seaborn as sns\n",
    "\n",
    "import os\n",
    "from pathlib import Path"
   ]
  },
  {
   "cell_type": "code",
   "execution_count": null,
   "id": "4260f4ad",
   "metadata": {},
   "outputs": [],
   "source": [
    "SEARCH_MSG = \\\n",
    "    f\"> Select a folder to add it to the path and search inside.\\n\" \\\n",
    "    f\"> Select a file to finish the search process.\\n\" \\\n",
    "    f\"> To select option [#], enter #.\\n\" \\\n",
    "    f\"[E] Exit\\n\" \\\n",
    "    f\"[U] Search up one level\"\n",
    "\n",
    "def findFile(input_path):\n",
    "    current_path = Path(input_path) # recast for safety\n",
    "    if not current_path.exists():\n",
    "        return(\"Invalid Path\")\n",
    "    print(f\"Current path: {current_path}\")\n",
    "    print(SEARCH_MSG)\n",
    "    \n",
    "    # list out files with [#] as identifier\n",
    "    dirList = [f for f in current_path.iterdir()]\n",
    "    print(\"> Files in current folder:\")\n",
    "    for c, i in enumerate(dirList):\n",
    "        print('[' + str(c) + '] ' + str(i.name))\n",
    "    print(\"\")\n",
    "\n",
    "    choice = input()\n",
    "    while choice.lower() not in [\"u\", \"e\"] + list(str(i) for i in range(len(dirList))):\n",
    "        choice = input(\"Couldn't read input, trying again. Target #: \")\n",
    "\n",
    "    if choice.lower() == \"e\": return(\"Exiting.\")\n",
    "    if choice.lower() == \"u\": return(findFile(current_path.parent))\n",
    "    if choice.isnumeric() and int(choice) in range(len(dirList)):\n",
    "        name = dirList[int(choice)]\n",
    "        current_path = current_path / name\n",
    "\n",
    "        if current_path.is_dir():\n",
    "            print(f\"Selected folder to search: {current_path}\")\n",
    "            return(findFile(current_path))\n",
    "        if current_path.is_file():\n",
    "            print(f\"Selected file: {current_path}\")\n",
    "            return current_path\n",
    "\n",
    "    return(\"Error reading choice, exiting.\")\n",
    "\n",
    "data_path = findFile(Path.cwd())\n",
    "print(data_path)"
   ]
  },
  {
   "cell_type": "code",
   "execution_count": null,
   "id": "f9e9f031",
   "metadata": {},
   "outputs": [],
   "source": [
    "data_path = Path.cwd().parent / Path('input files/su25/clean M3 wavelengths targeted global.csv')\n",
    "data_path"
   ]
  },
  {
   "cell_type": "code",
   "execution_count": 60,
   "id": "2318a81e",
   "metadata": {},
   "outputs": [],
   "source": [
    "df = pd.read_csv(data_path)"
   ]
  },
  {
   "cell_type": "code",
   "execution_count": 61,
   "id": "b1316700",
   "metadata": {},
   "outputs": [
    {
     "data": {
      "text/html": [
       "<div>\n",
       "<style scoped>\n",
       "    .dataframe tbody tr th:only-of-type {\n",
       "        vertical-align: middle;\n",
       "    }\n",
       "\n",
       "    .dataframe tbody tr th {\n",
       "        vertical-align: top;\n",
       "    }\n",
       "\n",
       "    .dataframe thead th {\n",
       "        text-align: right;\n",
       "    }\n",
       "</style>\n",
       "<table border=\"1\" class=\"dataframe\">\n",
       "  <thead>\n",
       "    <tr style=\"text-align: right;\">\n",
       "      <th></th>\n",
       "      <th>Wavelength (µm) M3 targeted images</th>\n",
       "      <th>average every 4 channels, step n, sort</th>\n",
       "      <th>average every 4 channels, step n, sort, round 0.0001</th>\n",
       "      <th>Wavelength (µm) M3 global images</th>\n",
       "    </tr>\n",
       "  </thead>\n",
       "  <tbody>\n",
       "    <tr>\n",
       "      <th>0</th>\n",
       "      <td>0.44602</td>\n",
       "      <td>0.460990</td>\n",
       "      <td>0.4610</td>\n",
       "      <td>0.4610</td>\n",
       "    </tr>\n",
       "    <tr>\n",
       "      <th>1</th>\n",
       "      <td>0.45600</td>\n",
       "      <td>0.500920</td>\n",
       "      <td>0.5009</td>\n",
       "      <td>0.5009</td>\n",
       "    </tr>\n",
       "    <tr>\n",
       "      <th>2</th>\n",
       "      <td>0.46598</td>\n",
       "      <td>0.540840</td>\n",
       "      <td>0.5408</td>\n",
       "      <td>0.5408</td>\n",
       "    </tr>\n",
       "    <tr>\n",
       "      <th>3</th>\n",
       "      <td>0.47596</td>\n",
       "      <td>0.580765</td>\n",
       "      <td>0.5808</td>\n",
       "      <td>0.5808</td>\n",
       "    </tr>\n",
       "    <tr>\n",
       "      <th>4</th>\n",
       "      <td>0.48595</td>\n",
       "      <td>0.620690</td>\n",
       "      <td>0.6207</td>\n",
       "      <td>0.6207</td>\n",
       "    </tr>\n",
       "  </tbody>\n",
       "</table>\n",
       "</div>"
      ],
      "text/plain": [
       "   Wavelength (µm) M3 targeted images  average every 4 channels, step n, sort  \\\n",
       "0                             0.44602                                0.460990   \n",
       "1                             0.45600                                0.500920   \n",
       "2                             0.46598                                0.540840   \n",
       "3                             0.47596                                0.580765   \n",
       "4                             0.48595                                0.620690   \n",
       "\n",
       "   average every 4 channels, step n, sort, round 0.0001  \\\n",
       "0                                             0.4610      \n",
       "1                                             0.5009      \n",
       "2                                             0.5408      \n",
       "3                                             0.5808      \n",
       "4                                             0.6207      \n",
       "\n",
       "   Wavelength (µm) M3 global images  \n",
       "0                            0.4610  \n",
       "1                            0.5009  \n",
       "2                            0.5408  \n",
       "3                            0.5808  \n",
       "4                            0.6207  "
      ]
     },
     "execution_count": 61,
     "metadata": {},
     "output_type": "execute_result"
    }
   ],
   "source": [
    "df.head()"
   ]
  },
  {
   "cell_type": "code",
   "execution_count": 62,
   "id": "5a6028a2",
   "metadata": {},
   "outputs": [],
   "source": [
    "# change step size if past a breakpoint\n",
    "# current wl: step to transition to\n",
    "breakpoints = {\n",
    "    \"wl\"   : [0, 0.44, 0.68, 0.71, 1.53, 1.56, 1.60], #, 1.64, 9999],\n",
    "    \"step\" : [0,    4,    4,    3,    2,    3,    4]  #,   5,    4]\n",
    "}\n",
    "wavelengths = np.array(df[df.columns[0]])\n",
    "empirical = np.array(df[df.columns[-1]].dropna())"
   ]
  },
  {
   "cell_type": "code",
   "execution_count": 63,
   "id": "f1c8f672",
   "metadata": {},
   "outputs": [
    {
     "name": "stdout",
     "output_type": "stream",
     "text": [
      "     wl: step change, index change\n",
      "0.44602: step 0->4, idx 0->1\n",
      "0.44602: step 4->4, idx 1->2\n",
      "0.68556: step 4->3, idx 2->3\n",
      "0.71551: step 3->2, idx 3->4\n",
      "1.53400: step 2->3, idx 4->5\n",
      "1.56390: step 3->4, idx 5->6\n",
      "\n",
      "lengths:\n",
      "output    85\n",
      "empirical 85\n",
      "\n",
      "sum diff:  0.000100\n",
      "\n",
      "idx: generated vs empirical\n",
      "21: 1.0099 | 1.0100\n",
      "61: 2.0580 | 2.0579\n",
      "69: 2.3774 | 2.3773\n",
      "78: 2.7366 | 2.7367\n",
      "82: 2.8964 | 2.8963\n"
     ]
    }
   ],
   "source": [
    "# average 4 at a time\n",
    "# set step size to last breakpoint\n",
    "# increment by step size\n",
    "# round to 4 decimals\n",
    "\n",
    "print(f\"     wl: step change, index change\")\n",
    "\n",
    "i = 0\n",
    "bp_idx = 0\n",
    "output = []\n",
    "while i+3 < len(wavelengths):\n",
    "    # average over next 4\n",
    "    avg = np.round(np.mean(wavelengths[i:i+4]),4)\n",
    "\n",
    "    # if next step exists\n",
    "    # and current wl > bp_idx wl\n",
    "    while bp_idx + 1 < len(breakpoints[\"step\"]) and wavelengths[i] > breakpoints[\"wl\"][bp_idx]:\n",
    "        bp_idx += 1\n",
    "        print(f\"{wavelengths[i]:0.5f}: step {breakpoints['step'][bp_idx-1]}->{breakpoints['step'][bp_idx]}, idx {bp_idx-1}->{bp_idx}\")\n",
    "\n",
    "    # save and increment by values consumed\n",
    "    output.append(avg)\n",
    "    i += breakpoints[\"step\"][bp_idx]\n",
    "output = np.array(output)\n",
    "\n",
    "print(f\"\\nlengths:\\n\" + f\"output    {len(output)}\\n\" + f\"empirical {len(empirical)}\\n\")\n",
    "print(f\"sum diff:  {sum(output - empirical):f}\")\n",
    "\n",
    "print(f\"\\n\" + f\"idx: generated vs empirical\")\n",
    "for i in range(min(len(output), len(empirical))):\n",
    "    if empirical[i] != output[i]:\n",
    "        print(f\"{i}: {output[i]:.04f} | {empirical[i]:.04f}\")"
   ]
  },
  {
   "cell_type": "code",
   "execution_count": null,
   "id": "c4f6f287",
   "metadata": {},
   "outputs": [],
   "source": [
    "### inconsistencies\n",
    "## round up, not truncating\n",
    "# mean(0.99497, 1.005, 1.0149, 1.0249) = 1.0099425 -> 1.0099, manual is 1.01 > 1.0099\n",
    "## round down\n",
    "# mean(2.3624, 2.3724, 2.3823, 2.3923) = 2.37735 -> 2.3774, manual is 2.3773 < 2.3774"
   ]
  },
  {
   "cell_type": "code",
   "execution_count": null,
   "id": "a46943ea",
   "metadata": {},
   "outputs": [],
   "source": [
    "### file writing:"
   ]
  }
 ],
 "metadata": {
  "kernelspec": {
   "display_name": "m3venv",
   "language": "python",
   "name": "python3"
  },
  "language_info": {
   "codemirror_mode": {
    "name": "ipython",
    "version": 3
   },
   "file_extension": ".py",
   "mimetype": "text/x-python",
   "name": "python",
   "nbconvert_exporter": "python",
   "pygments_lexer": "ipython3",
   "version": "3.11.1"
  }
 },
 "nbformat": 4,
 "nbformat_minor": 5
}

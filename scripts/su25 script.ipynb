{
 "cells": [
  {
   "cell_type": "code",
   "execution_count": null,
   "id": "0078e1da",
   "metadata": {},
   "outputs": [],
   "source": [
    "import numpy as np\n",
    "import pandas as pd\n",
    "import matplotlib.pyplot as plot\n",
    "import seaborn as sns\n",
    "\n",
    "import os\n",
    "from pathlib import Path"
   ]
  },
  {
   "cell_type": "code",
   "execution_count": null,
   "id": "4260f4ad",
   "metadata": {},
   "outputs": [],
   "source": [
    "SEARCH_MSG = \\\n",
    "    f\"> Select a folder to add it to the path and search inside.\\n\" \\\n",
    "    f\"> Select a file to finish the search process.\\n\" \\\n",
    "    f\"> To select option [#], enter #.\\n\" \\\n",
    "    f\"[E] Exit\\n\" \\\n",
    "    f\"[U] Search up one level\"\n",
    "\n",
    "def findFile(input_path):\n",
    "    current_path = Path(input_path) # recast for safety\n",
    "    if not current_path.exists():\n",
    "        return(\"Invalid Path\")\n",
    "    print(f\"Current path: {current_path}\")\n",
    "    print(SEARCH_MSG)\n",
    "    \n",
    "    # list out files with [#] as identifier\n",
    "    dirList = [f for f in current_path.iterdir()]\n",
    "    print(\"> Files in current folder:\")\n",
    "    for c, i in enumerate(dirList):\n",
    "        print('[' + str(c) + '] ' + str(i))\n",
    "    print(\"\")\n",
    "\n",
    "    choice = input()\n",
    "    while choice.lower() not in [\"u\", \"e\"] + list(str(i) for i in range(len(dirList))):\n",
    "        choice = input(\"Couldn't read input, trying again. Target #: \")\n",
    "\n",
    "    if choice.lower() == \"e\": return(\"Exiting.\")\n",
    "    if choice.lower() == \"u\": return(findFile(current_path.parent))\n",
    "    if choice.isnumeric() and int(choice) in range(len(dirList)):\n",
    "        name = dirList[int(choice)]\n",
    "        current_path = current_path / name\n",
    "\n",
    "        if current_path.is_dir():\n",
    "            print(f\"Selected folder to search: {current_path}\")\n",
    "            return(findFile(current_path))\n",
    "        if current_path.is_file():\n",
    "            print(f\"Selected file: {current_path}\")\n",
    "            return current_path\n",
    "\n",
    "    return(\"Error reading choice, exiting.\")\n",
    "\n",
    "data_path = findFile(Path.cwd())\n",
    "print(data_path)"
   ]
  },
  {
   "cell_type": "code",
   "execution_count": null,
   "id": "2318a81e",
   "metadata": {},
   "outputs": [],
   "source": [
    "df = pd.read_csv(data_path)"
   ]
  },
  {
   "cell_type": "code",
   "execution_count": null,
   "id": "b1316700",
   "metadata": {},
   "outputs": [],
   "source": [
    "df.head()"
   ]
  },
  {
   "cell_type": "code",
   "execution_count": null,
   "id": "5a6028a2",
   "metadata": {},
   "outputs": [],
   "source": [
    "# change step size if past a breakpoint\n",
    "# current wl: step to transition to\n",
    "breakpoints = {\n",
    "    \"wl\"   : [0, 0.44, 0.68, 0.71, 1.53, 1.56, 1.60], #, 1.64, 9999],\n",
    "    \"step\" : [0,    4,    4,    3,    2,    3,    4]  #,   5,    4]\n",
    "}\n",
    "wavelengths = np.array(df[df.columns[0]])\n",
    "empirical = np.array(df[df.columns[-1]].dropna())"
   ]
  },
  {
   "cell_type": "code",
   "execution_count": null,
   "id": "f1c8f672",
   "metadata": {},
   "outputs": [],
   "source": [
    "# average 4 at a time\n",
    "# set step size to last breakpoint\n",
    "# increment by step size\n",
    "# round to 4 decimals\n",
    "\n",
    "print(f\"     wl: step change, index change\")\n",
    "\n",
    "i = 0\n",
    "bp_idx = 0\n",
    "output = []\n",
    "while i+3 < len(wavelengths):\n",
    "    # average over next 4\n",
    "    avg = np.round(np.mean(wavelengths[i:i+4]),4)\n",
    "\n",
    "    # if next step exists\n",
    "    # and current wl > bp_idx wl\n",
    "    while bp_idx + 1 < len(breakpoints[\"step\"]) and wavelengths[i] > breakpoints[\"wl\"][bp_idx]:\n",
    "        bp_idx += 1\n",
    "        print(f\"{wavelengths[i]:0.5f}: step {breakpoints['step'][bp_idx-1]}->{breakpoints['step'][bp_idx]}, idx {bp_idx-1}->{bp_idx}\")\n",
    "\n",
    "    # save and increment by values consumed\n",
    "    output.append(avg)\n",
    "    i += breakpoints[\"step\"][bp_idx]\n",
    "output = np.array(output)\n",
    "\n",
    "print(f\"\\nlengths:\\n\" + f\"output    {len(output)}\\n\" + f\"empirical {len(empirical)}\\n\")\n",
    "print(f\"sum diff:  {sum(output - empirical):f}\")\n",
    "\n",
    "print(f\"\\n\" + f\"idx: generated vs empirical\")\n",
    "for i in range(min(len(output), len(empirical))):\n",
    "    if empirical[i] != output[i]:\n",
    "        print(f\"{i}: {output[i]:.04f} | {empirical[i]:.04f}\")"
   ]
  },
  {
   "cell_type": "code",
   "execution_count": null,
   "id": "c4f6f287",
   "metadata": {},
   "outputs": [],
   "source": [
    "### inconsistencies\n",
    "## round up, not truncating\n",
    "# mean(0.99497, 1.005, 1.0149, 1.0249) = 1.0099425 -> 1.0099, manual is 1.01 > 1.0099\n",
    "## round down\n",
    "# mean(2.3624, 2.3724, 2.3823, 2.3923) = 2.37735 -> 2.3774, manual is 2.3773 < 2.3774"
   ]
  },
  {
   "cell_type": "code",
   "execution_count": null,
   "id": "a46943ea",
   "metadata": {},
   "outputs": [],
   "source": [
    "### file writing:"
   ]
  }
 ],
 "metadata": {
  "kernelspec": {
   "display_name": "m3venv",
   "language": "python",
   "name": "python3"
  },
  "language_info": {
   "codemirror_mode": {
    "name": "ipython",
    "version": 3
   },
   "file_extension": ".py",
   "mimetype": "text/x-python",
   "name": "python",
   "nbconvert_exporter": "python",
   "pygments_lexer": "ipython3",
   "version": "3.11.1"
  }
 },
 "nbformat": 4,
 "nbformat_minor": 5
}

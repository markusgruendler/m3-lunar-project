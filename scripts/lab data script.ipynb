{
 "cells": [
  {
   "cell_type": "code",
   "execution_count": 219,
   "metadata": {},
   "outputs": [],
   "source": [
    "import numpy as np\n",
    "import pandas as pd\n",
    "import matplotlib.pyplot as plot\n",
    "import seaborn as sns\n",
    "from collections import defaultdict\n",
    "import os"
   ]
  },
  {
   "cell_type": "code",
   "execution_count": 220,
   "metadata": {},
   "outputs": [
    {
     "name": "stdout",
     "output_type": "stream",
     "text": [
      "# of file paths: 36\n"
     ]
    }
   ],
   "source": [
    "file_paths_list = []\n",
    "target_folder = 'lunar_analog_spectra'\n",
    "parent = None\n",
    "if target_folder not in os.listdir(os.getcwd()):\n",
    "    print(f'target folder not found')\n",
    "else:\n",
    "    parent = os.path.join(os.getcwd(), target_folder)\n",
    "    for folder_name in os.listdir(parent):\n",
    "        if folder_name[-9:] == \".DS_Store\": continue\n",
    "        folder_path = os.path.join(parent, folder_name)\n",
    "        for file in os.listdir(folder_path):\n",
    "            if file[-4:] == '.csv':\n",
    "                file_path = os.path.join(folder_path, file)\n",
    "                file_paths_list.append(file_path)\n",
    "\n",
    "print(f\"# of file paths: {len(file_paths_list)}\")\n",
    "# file_paths_list"
   ]
  },
  {
   "cell_type": "code",
   "execution_count": 221,
   "metadata": {},
   "outputs": [],
   "source": [
    "# assumed step size between m3 points \n",
    "# 10nm -> 0.01 microns = micrometers\n",
    "STEPSIZE = 0.01\n",
    "\n",
    "# boundaries for wavelengths, outside of which to ignore/truncate data\n",
    "# re-determined with boundaries of m3 data\n",
    "WL_MIN = 0.446\n",
    "WL_MAX = 2.99\n",
    "\n",
    "# TODO (in order of priority)\n",
    "# !save binned xy pairs and cubic spline xy pairs to CSVs\n",
    "# convert to python script file to run from cli\n",
    "# modify to read in a folder of csvs and a target to bin to (m3 in original case)\n",
    "# use variable (0.02 vs 0.04) step size based on micron range\n",
    "# rename + recolor graph legend\n",
    "# save graphs into subfolders based on lunar_analog_spectra folders (Iceland_JB501C graph goes into /Glass_volcanics)\n",
    "# prompt user whether to save graphs\n",
    "\n",
    "# step size until 1.57 microns\n",
    "# STEPSIZE_PRE = 0.02\n",
    "# step size after 1.57 microns \n",
    "# STEPSIZE_POST = 0.04"
   ]
  },
  {
   "cell_type": "code",
   "execution_count": 222,
   "metadata": {},
   "outputs": [],
   "source": [
    "# boundaries: \n",
    "# m^3\n",
    "# 0.46 microns - 460 nanometers\n",
    "# 3 microns  - 3000 nanometers\n",
    "# trailblazer\n",
    "# 0.6 microns - 600 nanometers\n",
    "# 3.6 microns - 3600 nanometers\n",
    "\n",
    "# bin methods\n",
    "# 1:1, cubic spline over 84 points (check for uniform step size)"
   ]
  },
  {
   "cell_type": "code",
   "execution_count": 223,
   "metadata": {},
   "outputs": [
    {
     "name": "stdout",
     "output_type": "stream",
     "text": [
      "   M3 Wavelengths (µm)\n",
      "0              0.44602\n",
      "1              0.45600\n",
      "2              0.46598\n",
      "3              0.47596\n",
      "4              0.48595\n",
      "   Wavelength (µm)  Augite ws592.3247\n",
      "0           0.2211           0.024414\n",
      "1           0.2291           0.024104\n",
      "2           0.2361           0.025224\n",
      "3           0.2421           0.024077\n",
      "4           0.2481           0.025293\n"
     ]
    }
   ],
   "source": [
    "# m3 = pd.read_csv('m3 original data.csv')\n",
    "m3_path = 'clark_m3_lab_spectra/Clark et al M3_Wavelengths_center channel or mean of Gaussian.txt'\n",
    "# m3_path = 'Clark M3 targeted channels.csv'\n",
    "lab_path = 'lunar_analog_spectra/20250222 USGS/USGS augite short WL.csv'\n",
    "\n",
    "# 20250202: using clark files as wavelength bin centers\n",
    "m3 = pd.read_csv(m3_path, skiprows=3)\n",
    "# m3 = pd.read_csv(m3_path, skiprows=0)\n",
    "print(m3.head())\n",
    "lab = pd.read_csv(lab_path)\n",
    "print(lab.head())\n"
   ]
  },
  {
   "cell_type": "code",
   "execution_count": 224,
   "metadata": {},
   "outputs": [
    {
     "name": "stdout",
     "output_type": "stream",
     "text": [
      "# of m^3 wavelengths: 256, first and last 10: \n",
      "['0.44602', '0.45600', '0.46598', '0.47596', '0.48595', '0.49593', '0.50591', '0.51589', '0.52587', '0.53585'], \n",
      "['2.89136', '2.90134', '2.91132', '2.92130', '2.93128', '2.94126', '2.95125', '2.96123', '2.97121', '2.98119']\n",
      "Updated WL_MIN=0.44102 and WL_MAX=2.9961699999999998\n"
     ]
    }
   ],
   "source": [
    "# for clark file\n",
    "m3.columns = ['Wavelength (µm)'] \n",
    "\n",
    "x_m3 = (m3['Wavelength (µm)']).tolist()\n",
    "x_m3 = [f\"{wl:.5f}\" for wl in x_m3]\n",
    "print(f\"# of m^3 wavelengths: {len(x_m3)}, first and last 10: \\n{x_m3[0:10]}, \\n{x_m3[-1-10:-1]}\")\n",
    "\n",
    "WL_MIN = float(x_m3[0])-STEPSIZE/2\n",
    "WL_MAX = float(x_m3[-1])+STEPSIZE/2\n",
    "print(f\"Updated WL_MIN={WL_MIN} and WL_MAX={WL_MAX}\")"
   ]
  },
  {
   "cell_type": "code",
   "execution_count": 225,
   "metadata": {},
   "outputs": [
    {
     "name": "stdout",
     "output_type": "stream",
     "text": [
      "lab df: \n",
      "                 Augite ws592.3247\n",
      "Wavelength (µm)                   \n",
      "0.2211                    0.024414\n",
      "0.2291                    0.024104\n",
      "0.2361                    0.025224\n",
      "0.2421                    0.024077\n",
      "0.2481                    0.025293\n",
      "\n",
      "5 [x],[y] raw pairs: \n",
      "first\n",
      "[0.2211, 0.2291, 0.2361, 0.2421, 0.2481], \n",
      "[0.024414, 0.024104, 0.025224, 0.024077, 0.025293] \n",
      "last\n",
      "[2.816, 2.848, 2.88, 2.912, 2.944], \n",
      "[0.137472, 0.133273, 0.129425, 0.129315, 0.138089]\n"
     ]
    }
   ],
   "source": [
    "if 'Wavelength (µm)' not in lab.columns:\n",
    "    lab['Wavelength (µm)'] = lab['Wavelength (nm)']/1000\n",
    "    lab.drop('Wavelength (nm)', axis = 'columns', inplace=True)\n",
    "lab = lab.set_index('Wavelength (µm)')\n",
    "lab.columns = lab.columns.str.replace(\",\",\"\")\n",
    "lab.dropna(axis = 0, inplace=True) # for missing values in lab csv file\n",
    "print(f'lab df: \\n{lab.head()}\\n')\n",
    "\n",
    "y_column_label = lab.columns[0]\n",
    "x_raw = list(lab.index)\n",
    "# x_raw rounding to 5 digits and recast to float (optional)\n",
    "x_raw = [float(f\"{wl:.5f}\") for wl in x_raw]\n",
    "y_raw = list(lab[y_column_label])\n",
    "\n",
    "print(f\"5 [x],[y] raw pairs: \\nfirst\\n{x_raw[0:5]}, \\n{y_raw[0:5]} \\nlast\\n{x_raw[-1-5:-1]}, \\n{y_raw[-1-5:-1]}\")"
   ]
  },
  {
   "cell_type": "code",
   "execution_count": 226,
   "metadata": {},
   "outputs": [
    {
     "data": {
      "text/plain": [
       "256"
      ]
     },
     "execution_count": 226,
     "metadata": {},
     "output_type": "execute_result"
    }
   ],
   "source": [
    "# initialize bins stored as numerical strings\n",
    "binned_raw = defaultdict(list)\n",
    "for x in x_m3:\n",
    "    binned_raw[x] = []\n",
    "len(binned_raw)"
   ]
  },
  {
   "cell_type": "code",
   "execution_count": 227,
   "metadata": {},
   "outputs": [
    {
     "name": "stdout",
     "output_type": "stream",
     "text": [
      "bin index: 253, input list size: 478\n"
     ]
    }
   ],
   "source": [
    "# append points to bin with wavelength within half of stepsize\n",
    "# average points across list\n",
    "# precondition: wavelengths are sorted in ascending order\n",
    "\n",
    "binCounter = 0\n",
    "for x,y in zip(x_raw, y_raw):\n",
    "    if x < WL_MIN or x > WL_MAX: continue\n",
    "\n",
    "    lbound = float(x_m3[binCounter]) - STEPSIZE/2\n",
    "    rbound = float(x_m3[binCounter]) + STEPSIZE/2\n",
    "\n",
    "    # while point doesn't fit into current bin\n",
    "    # increment binCounter unless not found\n",
    "    while x > rbound: \n",
    "        if binCounter + 1 < len(x_m3):\n",
    "            binCounter += 1\n",
    "\n",
    "            # update bin bounds\n",
    "            lbound = float(x_m3[binCounter]) - STEPSIZE/2\n",
    "            rbound = float(x_m3[binCounter]) + STEPSIZE/2\n",
    "        else:\n",
    "            print(f\"Point {x, y} within WL MINMAX range {WL_MIN, WL_MAX} but no bin found, last {lbound, rbound}\")\n",
    "            break\n",
    "    \n",
    "    # add point to bin\n",
    "    binned_raw[x_m3[binCounter]].append((x,y))\n",
    "    \n",
    "print(f\"bin index: {binCounter}, input list size: {len(x_raw)}\")"
   ]
  },
  {
   "cell_type": "code",
   "execution_count": 228,
   "metadata": {},
   "outputs": [
    {
     "name": "stdout",
     "output_type": "stream",
     "text": [
      "# of average reflectance values (214, 214), first and last averaged points [(0.44602, 0.207174), (2.97121, 0.128195)]\n"
     ]
    }
   ],
   "source": [
    "# average all wavelength values in the same bin\n",
    "x_avg = []\n",
    "y_avg = []\n",
    "for count, bin in enumerate(binned_raw):\n",
    "    # print(bin, type(bin))\n",
    "    if len(binned_raw[bin]) == 0:\n",
    "        # x_avg.append(bin)\n",
    "        # y_avg.append(-1)\n",
    "        # print(f\"Empty bin at {bin}\")\n",
    "        continue\n",
    "\n",
    "    # average over all raw reflectance values\n",
    "    avgx = 0\n",
    "    avgy = 0\n",
    "    for x,y in binned_raw[bin]:\n",
    "        avgx += x\n",
    "        avgy += y\n",
    "    avgx /= len(binned_raw[bin])\n",
    "    avgy /= len(binned_raw[bin])\n",
    "\n",
    "    y_avg.append(avgy)\n",
    "    \n",
    "    # take band center as WL coordinate to match to target 10nm\n",
    "    x_avg.append(float(bin)) \n",
    "    # x_avg.append(avgx)\n",
    "\n",
    "print(f\"# of average reflectance values {len(x_avg), len(y_avg)}, first and last averaged points {[(x_avg[0], y_avg[0]), (x_avg[-1], y_avg[-1])]}\")"
   ]
  },
  {
   "cell_type": "code",
   "execution_count": 229,
   "metadata": {},
   "outputs": [],
   "source": [
    "# # drop bins based on range\n",
    "# # x = wl\n",
    "# # y = reflectance\n",
    "# x_avg_drop = x_avg\n",
    "# y_avg_drop = y_avg\n",
    "# for c, (xi,yi) in enumerate(zip(x_avg, y_avg)):\n",
    "#     if (x )\n",
    "#     if (c+1) % 2 == 0:\n",
    "#         x_avg_drop.remove(xi)\n",
    "#         y_avg_drop.remove(yi)\n",
    "\n",
    "\n",
    "# print(f\"# of average reflectance values {len(x_avg), len(y_avg)}, first and last averaged points {[(x_avg[0], y_avg[0]), (x_avg[-1], y_avg[-1])]}\")"
   ]
  },
  {
   "cell_type": "code",
   "execution_count": 230,
   "metadata": {},
   "outputs": [],
   "source": [
    "# troubleshoot for cubic spline failing\n",
    "# because x_avg is not sorted ascending\n",
    "# occurs when lab data is being skipped\n",
    "# due to bad WL_MIN, WL_MAX boundaries\n",
    "\n",
    "highest = 0\n",
    "for i in range(len(x_avg)):\n",
    "    try:\n",
    "        if float(x_avg[i]) < highest:\n",
    "            print(i, x_avg[i], \"<\", highest, x_avg[i-1])\n",
    "    except Exception as e:\n",
    "        print(e)\n",
    "        print(i, x_avg[i], highest, \"excepting\")\n",
    "    highest = float(x_avg[i])"
   ]
  },
  {
   "cell_type": "code",
   "execution_count": 231,
   "metadata": {},
   "outputs": [],
   "source": [
    "from scipy.interpolate import CubicSpline\n",
    "\n",
    "spline_points = len(x_avg)\n",
    "cs_avg = CubicSpline(x_avg, y_avg)\n",
    "\n",
    "x_spline_avg = list(np.linspace(WL_MIN, WL_MAX, spline_points))\n",
    "x_spline_avg = list(np.linspace(x_avg[0], x_avg[-1], spline_points))\n",
    "y_spline_avg = list(cs_avg(x_spline_avg))\n",
    "\n",
    "# len(x_spline_avg), len(y_spline_avg)"
   ]
  },
  {
   "cell_type": "code",
   "execution_count": 232,
   "metadata": {},
   "outputs": [
    {
     "data": {
      "image/png": "[encoded data removed]",
      "text/plain": [
       "<Figure size 1000x400 with 1 Axes>"
      ]
     },
     "metadata": {},
     "output_type": "display_data"
    }
   ],
   "source": [
    "plot.rcParams['figure.figsize'] = (10,4)\n",
    "\n",
    "ax = sns.lineplot(\n",
    "    x = x_avg,\n",
    "    y = y_avg,\n",
    "    label = f\"{len(x_avg)} point averages of bin size {STEPSIZE}\",\n",
    "    color = \"red\",\n",
    ")\n",
    "\n",
    "ax = sns.lineplot(\n",
    "    x = x_spline_avg,\n",
    "    y = y_spline_avg,\n",
    "    label = f\"{len(x_spline_avg)} point cubic spline of bin average\",\n",
    "    color = \"green\",\n",
    ")\n",
    "\n",
    "ax = sns.lineplot(\n",
    "    x = x_raw,\n",
    "    y = y_raw,\n",
    "    label = f\"{len(x_raw)} point raw data\",\n",
    "    color = 'blue',\n",
    ")\n",
    "\n",
    "for line in ax.lines:\n",
    "    line.set_alpha(0.3)\n",
    "\n",
    "\n",
    "plot.title(f\"{y_column_label} Comparison\")\n",
    "plot.xlabel('Wavelength (µm)')\n",
    "plot.ylabel('Reflectance')\n",
    "\n",
    "plot.xlim(WL_MIN, WL_MAX)\n",
    "plot.tight_layout()\n",
    "# plot.savefig(f'graphs/{y_column_label} Comparison.png', bbox_inches='tight', dpi = 1000, transparent = False)\n",
    "plot.savefig(f'graphs/test/{y_column_label} Comparison.png', bbox_inches='tight', dpi = 1000, transparent = False)\n",
    "plot.show()"
   ]
  },
  {
   "cell_type": "code",
   "execution_count": 233,
   "metadata": {},
   "outputs": [
    {
     "name": "stdout",
     "output_type": "stream",
     "text": [
      "Extended x,y avg and spline arrays 264 times to match x_raw\n"
     ]
    }
   ],
   "source": [
    "# match lengths of x_raw, x_avg, x_spline_avg \n",
    "# prevents data from getting cut off when saving\n",
    "# since zip function in writeFile() terminates\n",
    "# on shortest array running out\n",
    "count = 0\n",
    "while len(x_raw) != len(x_avg) or len(x_raw) != len(x_spline_avg):\n",
    "    x_avg.append('')\n",
    "    y_avg.append('')\n",
    "    x_spline_avg.append('')\n",
    "    y_spline_avg.append('')\n",
    "    count += 1\n",
    "if count > 0:\n",
    "    print(f\"Extended x,y avg and spline arrays {count} times to match x_raw\")"
   ]
  },
  {
   "cell_type": "code",
   "execution_count": 234,
   "metadata": {},
   "outputs": [],
   "source": [
    "def writeFile(path, mode): # x = new, w = overwrite\n",
    "    output = open(path, mode)\n",
    "    output.write(f\"Wavelength (µm) raw,{y_column_label} raw,Wavelength (µm) bin avg,{y_column_label} bin avg,Wavelength (µm) cubic spline of bin avg,{y_column_label} cubic spline of bin avg\\n\")\n",
    "\n",
    "    # ends when shortest zip input runs out\n",
    "    for xr, yr, xavg, yavg, xspline, yspline in zip(x_raw, y_raw, x_avg, y_avg, x_spline_avg, y_spline_avg):\n",
    "        output.write(f\"{xr},{yr},{xavg},{yavg},{xspline},{yspline}\\n\")\n",
    "    output.close()"
   ]
  },
  {
   "cell_type": "code",
   "execution_count": 235,
   "metadata": {},
   "outputs": [
    {
     "name": "stdout",
     "output_type": "stream",
     "text": [
      "file present\n"
     ]
    }
   ],
   "source": [
    "# output_path = file_paths_list[0].replace('/lunar_analog_spectra/', '/csv output/')\n",
    "output_path = file_path.replace('/lunar_analog_spectra/', '/csv output/')\n",
    "\n",
    "try:\n",
    "    writeFile(output_path, 'x')\n",
    "    print('file saved')\n",
    "except FileExistsError:\n",
    "    # writeFile(output_path,'w')\n",
    "    print('file present')\n",
    "    pass\n",
    "except Exception as e:\n",
    "    print(e)\n",
    "    pass"
   ]
  }
 ],
 "metadata": {
  "kernelspec": {
   "display_name": "Python 3",
   "language": "python",
   "name": "python3"
  },
  "language_info": {
   "codemirror_mode": {
    "name": "ipython",
    "version": 3
   },
   "file_extension": ".py",
   "mimetype": "text/x-python",
   "name": "python",
   "nbconvert_exporter": "python",
   "pygments_lexer": "ipython3",
   "version": "3.11.1"
  }
 },
 "nbformat": 4,
 "nbformat_minor": 2
}
